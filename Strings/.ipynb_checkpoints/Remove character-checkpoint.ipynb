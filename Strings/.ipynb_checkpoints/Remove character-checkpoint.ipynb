{
 "cells": [
  {
   "cell_type": "markdown",
   "metadata": {},
   "source": [
    "Remove character\n",
    "Send Feedback\n",
    "For a given a string(str) and a character X, write a function to remove all the occurrences of X from the given string.\n",
    "The input string will remain unchanged if the given character(X) doesn't exist in the input string.\n",
    "Input Format:\n",
    "The first line of input contains a string without any leading and trailing spaces.\n",
    "\n",
    "The second line of input contains a character(X) without any leading and trailing spaces.\n",
    "Output Format:\n",
    "The only line of output prints the updated string. \n",
    "Note:\n",
    "You are not required to print anything explicitly. It has already been taken care of.\n",
    "Constraints:\n",
    "0 <= N <= 10^6\n",
    "Where N is the length of the input string.\n",
    "\n",
    "Time Limit: 1 second\n",
    "Sample Input 1:\n",
    "aabccbaa\n",
    "a\n",
    "Sample Output 1:\n",
    "bccb\n",
    "Sample Input 2:\n",
    "xxyyzxx\n",
    "y\n",
    "Sample Output 2:\n",
    "xxzxx"
   ]
  },
  {
   "cell_type": "code",
   "execution_count": null,
   "metadata": {},
   "outputs": [],
   "source": [
    "s=input()\n",
    "ch=input()\n",
    "print(s.replace(ch, ''))"
   ]
  }
 ],
 "metadata": {
  "kernelspec": {
   "display_name": "Python 3",
   "language": "python",
   "name": "python3"
  },
  "language_info": {
   "codemirror_mode": {
    "name": "ipython",
    "version": 3
   },
   "file_extension": ".py",
   "mimetype": "text/x-python",
   "name": "python",
   "nbconvert_exporter": "python",
   "pygments_lexer": "ipython3",
   "version": "3.8.5"
  }
 },
 "nbformat": 4,
 "nbformat_minor": 4
}
