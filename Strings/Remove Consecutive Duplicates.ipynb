{
 "cells": [
  {
   "cell_type": "markdown",
   "metadata": {},
   "source": [
    "Remove Consecutive Duplicates\n",
    "Send Feedback\n",
    "For a given string(str), remove all the consecutive duplicate characters.\n",
    "Example:\n",
    "Input String: \"aaaa\"\n",
    "Expected Output: \"a\"\n",
    "\n",
    "Input String: \"aabbbcc\"\n",
    "Expected Output: \"abc\"\n",
    " Input Format:\n",
    "The first and only line of input contains a string without any leading and trailing spaces. All the characters in the string would be in lower case.\n",
    "Output Format:\n",
    "The only line of output prints the updated string.\n",
    "Note:\n",
    "You are not required to print anything. It has already been taken care of.\n",
    "Constraints:\n",
    "0 <= N <= 10^6\n",
    "Where N is the length of the input string.\n",
    "\n",
    "Time Limit: 1 second\n",
    "Sample Input 1:\n",
    "aabccbaa\n",
    "Sample Output 1:\n",
    "abcba\n",
    "Sample Input 2:\n",
    "xxyyzxx\n",
    "Sample Output 2:\n",
    "xyzx"
   ]
  },
  {
   "cell_type": "code",
   "execution_count": null,
   "metadata": {},
   "outputs": [],
   "source": [
    "import itertools\n",
    "def remove_consecutive_duplicates(s1):\n",
    "     return (''.join(i for i, _ in itertools.groupby(s1)))\n",
    "\n",
    "s1= input()\n",
    "print(remove_consecutive_duplicates(s1))"
   ]
  }
 ],
 "metadata": {
  "kernelspec": {
   "display_name": "Python 3",
   "language": "python",
   "name": "python3"
  },
  "language_info": {
   "codemirror_mode": {
    "name": "ipython",
    "version": 3
   },
   "file_extension": ".py",
   "mimetype": "text/x-python",
   "name": "python",
   "nbconvert_exporter": "python",
   "pygments_lexer": "ipython3",
   "version": "3.8.5"
  }
 },
 "nbformat": 4,
 "nbformat_minor": 4
}
