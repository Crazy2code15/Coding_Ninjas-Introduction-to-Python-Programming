{
 "cells": [
  {
   "cell_type": "markdown",
   "metadata": {},
   "source": [
    "Compress the String\n",
    "Send Feedback\n",
    "Write a program to do basic string compression. For a character which is consecutively repeated more than once, replace consecutive duplicate occurrences with the count of repetitions.\n",
    "Exmple:\n",
    "If a string has 'x' repeated 5 times, replace this \"xxxxx\" with \"x5\".\n",
    "\n",
    "The string is compressed only when the repeated character count is more than 1.\n",
    "Note :\n",
    "Consecutive count of every character in the input string is less than or equal to 9.\n",
    "Input Format:\n",
    "The first and only line of input contains a string without any leading and trailing spaces.\n",
    "Output Format:\n",
    "The only line of output prints the updated string.\n",
    "Note:\n",
    "You are not required to print anything. It has already been taken care of.\n",
    "Constraints:\n",
    "0 <= N <= 10^6\n",
    "Where N is the length of the input string.\n",
    "\n",
    "Time Limit: 1 second\n",
    "Sample Input 1:\n",
    "aaabbccdsa\n",
    "Sample Output 1:\n",
    "a3b2c2dsa\n",
    "Sample Input 2:\n",
    "aaabbcddeeeee\n",
    "Sample Output 2:\n",
    "a3b2cd2e5"
   ]
  },
  {
   "cell_type": "code",
   "execution_count": null,
   "metadata": {},
   "outputs": [],
   "source": [
    "def ab(a):\n",
    "    i=0\n",
    "    x=''\n",
    "    while(i<len(a)):\n",
    "        j=i+1\n",
    "        c=1\n",
    "        while j<len(a) and (a[i]==a[j]):\n",
    "            j+=1\n",
    "            c+=1\n",
    "        if c==1:\n",
    "            x+=a[i]\n",
    "        else:\n",
    "            x+=a[i]+str(c)\n",
    "        i=j\n",
    "    return x\n",
    "a=input()\n",
    "print(ab(a))"
   ]
  }
 ],
 "metadata": {
  "kernelspec": {
   "display_name": "Python 3",
   "language": "python",
   "name": "python3"
  },
  "language_info": {
   "codemirror_mode": {
    "name": "ipython",
    "version": 3
   },
   "file_extension": ".py",
   "mimetype": "text/x-python",
   "name": "python",
   "nbconvert_exporter": "python",
   "pygments_lexer": "ipython3",
   "version": "3.8.5"
  }
 },
 "nbformat": 4,
 "nbformat_minor": 4
}
