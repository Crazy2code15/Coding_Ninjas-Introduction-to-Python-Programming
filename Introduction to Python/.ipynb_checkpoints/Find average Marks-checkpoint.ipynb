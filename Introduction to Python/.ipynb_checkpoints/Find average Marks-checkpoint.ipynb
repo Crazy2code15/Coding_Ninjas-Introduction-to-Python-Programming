{
 "cells": [
  {
   "cell_type": "markdown",
   "metadata": {},
   "source": [
    "Find average Marks\n",
    "Send Feedback\n",
    "Write a program to input marks of three tests of a student (all integers). Then calculate and print the average of all test marks.\n",
    "Input format :\n",
    "3 Test marks (in different lines)\n",
    "Output format :\n",
    "Average \n",
    "Sample Input 1 :\n",
    "3 \n",
    "4 \n",
    "6\n",
    "Sample Output 1 :\n",
    "4.333333333333333\n",
    "Sample Input 2 :\n",
    "5 \n",
    "10 \n",
    "5\n",
    "Sample Output 2 :\n",
    "6.666666666666667"
   ]
  },
  {
   "cell_type": "code",
   "execution_count": 2,
   "metadata": {},
   "outputs": [
    {
     "name": "stdout",
     "output_type": "stream",
     "text": [
      "5\n",
      "5\n",
      "5\n",
      "5.0\n"
     ]
    }
   ],
   "source": [
    "a=int(input())\n",
    "b=int(input())\n",
    "c=int(input())\n",
    "s=(a+b+c)/3\n",
    "print(s)"
   ]
  },
  {
   "cell_type": "code",
   "execution_count": null,
   "metadata": {},
   "outputs": [],
   "source": []
  }
 ],
 "metadata": {
  "kernelspec": {
   "display_name": "Python 3",
   "language": "python",
   "name": "python3"
  },
  "language_info": {
   "codemirror_mode": {
    "name": "ipython",
    "version": 3
   },
   "file_extension": ".py",
   "mimetype": "text/x-python",
   "name": "python",
   "nbconvert_exporter": "python",
   "pygments_lexer": "ipython3",
   "version": "3.8.5"
  }
 },
 "nbformat": 4,
 "nbformat_minor": 5
}
