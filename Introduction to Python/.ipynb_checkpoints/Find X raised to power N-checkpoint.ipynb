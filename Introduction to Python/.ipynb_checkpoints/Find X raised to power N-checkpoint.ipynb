{
 "cells": [
  {
   "cell_type": "markdown",
   "metadata": {},
   "source": [
    "Find X raised to power N\n",
    "Send Feedback\n",
    "You are given two integers: X and N. You have to calculate X raised to power N and print it.\n",
    "Input format:\n",
    "The first line of input contains an integer X (1 <= X <= 100)\n",
    "The second line of input contains an integer N (1 <= N <= 10) \n",
    "Constraints:\n",
    "Time Limit: 1 second\n",
    "Output format:\n",
    "The first and only line of output contains the result.  \n",
    "Sample Input:\n",
    "10\n",
    "4\n",
    "Sample Output:\n",
    "10000"
   ]
  },
  {
   "cell_type": "code",
   "execution_count": 1,
   "metadata": {},
   "outputs": [
    {
     "name": "stdout",
     "output_type": "stream",
     "text": [
      "5\n",
      "2\n",
      "25\n"
     ]
    }
   ],
   "source": [
    "X=int(input())\n",
    "N=int(input())\n",
    "print(X**N)"
   ]
  },
  {
   "cell_type": "code",
   "execution_count": null,
   "metadata": {},
   "outputs": [],
   "source": []
  }
 ],
 "metadata": {
  "kernelspec": {
   "display_name": "Python 3",
   "language": "python",
   "name": "python3"
  },
  "language_info": {
   "codemirror_mode": {
    "name": "ipython",
    "version": 3
   },
   "file_extension": ".py",
   "mimetype": "text/x-python",
   "name": "python",
   "nbconvert_exporter": "python",
   "pygments_lexer": "ipython3",
   "version": "3.8.5"
  }
 },
 "nbformat": 4,
 "nbformat_minor": 4
}
