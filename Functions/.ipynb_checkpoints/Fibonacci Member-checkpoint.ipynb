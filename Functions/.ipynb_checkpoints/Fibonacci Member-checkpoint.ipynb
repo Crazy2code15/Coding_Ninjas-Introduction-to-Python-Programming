{
 "cells": [
  {
   "cell_type": "markdown",
   "metadata": {},
   "source": [
    "Fibonacci Member\n",
    "Send Feedback\n",
    "Given a number N, figure out if it is a member of fibonacci series or not. Return true if the number is member of fibonacci series else false.\n",
    "Fibonacci Series is defined by the recurrence\n",
    "    F(n) = F(n-1) + F(n-2)\n",
    "where F(0) = 0 and F(1) = 1\n",
    "\n",
    "\n",
    "Input Format :\n",
    "Integer N\n",
    "Output Format :\n",
    "true or false\n",
    "Constraints :\n",
    "0 <= n <= 10^4\n",
    "Sample Input 1 :\n",
    "5\n",
    "Sample Output 1 :\n",
    "true\n",
    "Sample Input 2 :\n",
    "14\n",
    "Sample Output 2 :\n",
    "false"
   ]
  },
  {
   "cell_type": "code",
   "execution_count": null,
   "metadata": {},
   "outputs": [],
   "source": [
    "import math\n",
    " \n",
    "# A utility function that returns true if x is perfect square\n",
    "def isPerfectSquare(x):\n",
    "    s = int(math.sqrt(x))\n",
    "    return s*s == x\n",
    " \n",
    "# Returns true if n is a Fibinacci Number, else false\n",
    "def isFibonacci(n):\n",
    " \n",
    "    # n is Fibinacci if one of 5*n*n + 4 or 5*n*n - 4 or both\n",
    "    # is a perferct square\n",
    "    return isPerfectSquare(5*n*n + 4) or isPerfectSquare(5*n*n - 4)\n",
    "    \n",
    "# A utility function to test above functions\n",
    "n=int(input())\n",
    "if (isFibonacci(n) == True):\n",
    "    print (\"true\")\n",
    "else:\n",
    "    print (\"false\")"
   ]
  }
 ],
 "metadata": {
  "kernelspec": {
   "display_name": "Python 3",
   "language": "python",
   "name": "python3"
  },
  "language_info": {
   "codemirror_mode": {
    "name": "ipython",
    "version": 3
   },
   "file_extension": ".py",
   "mimetype": "text/x-python",
   "name": "python",
   "nbconvert_exporter": "python",
   "pygments_lexer": "ipython3",
   "version": "3.8.5"
  }
 },
 "nbformat": 4,
 "nbformat_minor": 4
}
