{
 "cells": [
  {
   "cell_type": "markdown",
   "metadata": {},
   "source": [
    "Palindrome number\n",
    "Send Feedback\n",
    "Write a program to determine if given number is palindrome or not. Print true if it is palindrome, false otherwise.\n",
    "Palindrome are the numbers for which reverse is exactly same as the original one. For eg. 121\n",
    "Sample Input 1 :\n",
    "121\n",
    "Sample Output 1 :\n",
    "true\n",
    "Sample Input 2 :\n",
    "1032\n",
    "Sample Output 2 :\n",
    "false"
   ]
  },
  {
   "cell_type": "code",
   "execution_count": null,
   "metadata": {},
   "outputs": [],
   "source": [
    "def isPalindrome(s): \n",
    "    #to change it the string is similar case\n",
    "    s = s.lower()\n",
    "    # length of s\n",
    "    l = len(s)\n",
    "     \n",
    "    # if length is less than 2\n",
    "    if l < 2:\n",
    "        return True\n",
    " \n",
    "    # If s[0] and s[l-1] are equal\n",
    "    elif s[0] == s[l - 1]:\n",
    "        \n",
    "        # Call is pallindrome form substring(1,l-1)\n",
    "        return isPalindrome(s[1: l - 1])\n",
    " \n",
    "    else:\n",
    "        return False\n",
    " \n",
    "# Driver Code\n",
    "s = input()\n",
    "ans = isPalindrome(s)\n",
    " \n",
    "if ans:\n",
    "    print(\"true\")\n",
    " \n",
    "else:\n",
    "    print(\"false\")"
   ]
  }
 ],
 "metadata": {
  "kernelspec": {
   "display_name": "Python 3",
   "language": "python",
   "name": "python3"
  },
  "language_info": {
   "codemirror_mode": {
    "name": "ipython",
    "version": 3
   },
   "file_extension": ".py",
   "mimetype": "text/x-python",
   "name": "python",
   "nbconvert_exporter": "python",
   "pygments_lexer": "ipython3",
   "version": "3.8.5"
  }
 },
 "nbformat": 4,
 "nbformat_minor": 4
}
