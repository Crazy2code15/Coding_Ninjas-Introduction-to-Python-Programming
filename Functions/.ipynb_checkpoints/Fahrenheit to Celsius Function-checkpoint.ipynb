{
 "cells": [
  {
   "cell_type": "markdown",
   "metadata": {},
   "source": [
    "Fahrenheit to Celsius Function\n",
    "Send Feedback\n",
    "Given three values - Start Fahrenheit Value (S), End Fahrenheit value (E) and Step Size (W), you need to convert all Fahrenheit values from Start to End at the gap of W, into their corresponding Celsius values and print the table.\n",
    "Input Format :\n",
    "3 integers - S, E and W respectively\n",
    "Output Format :\n",
    "Fahrenheit to Celsius conversion table. One line for every Fahrenheit and Celsius Fahrenheit value. Fahrenheit value and its corresponding Celsius value should be separate by tab (\"\\t\")\n",
    "Constraints :\n",
    "0 <= S <= 1000\n",
    "0 <= E <= 1000\n",
    "0 <= W <= 1000\n",
    "Sample Input 1:\n",
    "0 \n",
    "100 \n",
    "20\n",
    "Sample Output 1:\n",
    "0   -17\n",
    "20  -6\n",
    "40  4\n",
    "60  15\n",
    "80  26\n",
    "100 37\n",
    "Sample Input 2:\n",
    "120 \n",
    "200 \n",
    "40\n",
    "Sample Output 2:\n",
    "120 48\n",
    "160 71\n",
    "200 93\n",
    "Explanation for Sample Output 2 :\n",
    "Start value is 120, end value is 200 and step size is 40. Therefore, the values we need to convert are 120, 120 + 40 = 160, and 160 + 40 = 200. \n",
    "The formula for converting Fahrenheit to Celsius is:\n",
    "Celsius Value = (5/9)*(Fahrenheit Value - 32)  \n",
    "Plugging 120 into the formula, the celsius value will be (5 / 9)*(120 - 32) => (5 / 9) * 88 => (5 * 88) / 9 => 440 / 9 => 48.88\n",
    "But we'll only print 48 because we are only interested in the integral part of the value."
   ]
  },
  {
   "cell_type": "code",
   "execution_count": null,
   "metadata": {},
   "outputs": [],
   "source": [
    "S=int(input())\n",
    "E=int(input())\n",
    "W=int(input())\n",
    "\n",
    "while S<=E:\n",
    "    c=(S-32)*5/9\n",
    "    print(S, \"\\t\", int(c))\n",
    "    S=S+W\n"
   ]
  }
 ],
 "metadata": {
  "kernelspec": {
   "display_name": "Python 3",
   "language": "python",
   "name": "python3"
  },
  "language_info": {
   "codemirror_mode": {
    "name": "ipython",
    "version": 3
   },
   "file_extension": ".py",
   "mimetype": "text/x-python",
   "name": "python",
   "nbconvert_exporter": "python",
   "pygments_lexer": "ipython3",
   "version": "3.8.5"
  }
 },
 "nbformat": 4,
 "nbformat_minor": 4
}
