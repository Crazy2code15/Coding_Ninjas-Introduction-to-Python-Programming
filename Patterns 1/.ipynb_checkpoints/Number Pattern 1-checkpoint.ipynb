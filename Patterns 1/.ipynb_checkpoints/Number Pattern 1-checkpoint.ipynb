{
 "cells": [
  {
   "cell_type": "markdown",
   "metadata": {},
   "source": [
    "Number Pattern 1\n",
    "Send Feedback\n",
    "Print the following pattern for the given N number of rows.\n",
    "Pattern for N = 4\n",
    "1\n",
    "11\n",
    "111\n",
    "1111\n",
    "Input format :\n",
    "Integer N (Total no. of rows)\n",
    "Output format :\n",
    "Pattern in N lines\n",
    "Sample Input :\n",
    "5\n",
    "Sample Output :\n",
    "1\n",
    "11\n",
    "111\n",
    "1111\n",
    "11111"
   ]
  },
  {
   "cell_type": "code",
   "execution_count": null,
   "metadata": {},
   "outputs": [],
   "source": [
    "n=int(input())\n",
    "i=1\n",
    "while i<=n:\n",
    "    j=1\n",
    "    while j<=i:\n",
    "        print(1,end=\"\")\n",
    "        j=j+1\n",
    "    print()\n",
    "    i=i+1"
   ]
  }
 ],
 "metadata": {
  "kernelspec": {
   "display_name": "Python 3",
   "language": "python",
   "name": "python3"
  },
  "language_info": {
   "codemirror_mode": {
    "name": "ipython",
    "version": 3
   },
   "file_extension": ".py",
   "mimetype": "text/x-python",
   "name": "python",
   "nbconvert_exporter": "python",
   "pygments_lexer": "ipython3",
   "version": "3.8.5"
  }
 },
 "nbformat": 4,
 "nbformat_minor": 4
}
