{
 "cells": [
  {
   "cell_type": "markdown",
   "metadata": {},
   "source": [
    "Print the pattern\n",
    "Send Feedback\n",
    "Print the following pattern for the given number of rows.\n",
    "Pattern for N = 5\n",
    " 1    2   3    4   5\n",
    " 11   12  13   14  15\n",
    " 21   22  23   24  25\n",
    " 16   17  18   19  20\n",
    " 6    7    8   9   10\n",
    "Input format : N (Total no. of rows)\n",
    "\n",
    "Output format : Pattern in N lines\n",
    "\n",
    "Sample Input :\n",
    "4\n",
    "Sample Output :\n",
    " 1  2  3  4\n",
    " 9 10 11 12\n",
    "13 14 15 16\n",
    " 5  6  7  8"
   ]
  },
  {
   "cell_type": "code",
   "execution_count": null,
   "metadata": {},
   "outputs": [],
   "source": [
    "import math\n",
    "\n",
    "n = int(input())\n",
    "\n",
    "for i in range(math.ceil(n/2)):\n",
    "\n",
    "   for j in range(1,n+1):\n",
    "\n",
    "       print(n*2*i + j ,end = \" \");\n",
    "\n",
    "   print()\n",
    "\n",
    "for i in range(n//2,0,-1):\n",
    "\n",
    "   for j in range(1,n+1):\n",
    "\n",
    "       print(n*(2*i-1) + j , end = \" \")\n",
    "\n",
    "   print()"
   ]
  }
 ],
 "metadata": {
  "kernelspec": {
   "display_name": "Python 3",
   "language": "python",
   "name": "python3"
  },
  "language_info": {
   "codemirror_mode": {
    "name": "ipython",
    "version": 3
   },
   "file_extension": ".py",
   "mimetype": "text/x-python",
   "name": "python",
   "nbconvert_exporter": "python",
   "pygments_lexer": "ipython3",
   "version": "3.8.5"
  }
 },
 "nbformat": 4,
 "nbformat_minor": 4
}
