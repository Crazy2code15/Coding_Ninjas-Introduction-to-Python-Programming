{
 "cells": [
  {
   "cell_type": "markdown",
   "metadata": {},
   "source": [
    "Code : Diamond of stars\n",
    "Send Feedback\n",
    "Print the following pattern for the given number of rows.\n",
    "Note: N is always odd.\n",
    "\n",
    "Input format :\n",
    "N (Total no. of rows and can only be odd)\n",
    "Output format :\n",
    "Pattern in N lines\n",
    "Constraints :\n",
    "1 <= N <= 49\n",
    "Sample Input 1:\n",
    "5\n",
    "Sample Output 1:\n",
    "  *\n",
    " ***\n",
    "*****\n",
    " ***\n",
    "  *\n",
    "Sample Input 2:\n",
    "3\n",
    "Sample Output 2:\n",
    "  *\n",
    " ***\n",
    "  *"
   ]
  },
  {
   "cell_type": "code",
   "execution_count": null,
   "metadata": {},
   "outputs": [],
   "source": [
    "def pattern(n):\n",
    "    for i in range(n):\n",
    "        if i<=n/2:\n",
    "            for j in range (n//2-i):\n",
    "                print(' ',end=\"\")\n",
    "            for k in range(2*i+1):\n",
    "                print('*',end=\"\")\n",
    "            print()\n",
    "        elif i==n//2:\n",
    "            for j in range(n):\n",
    "                print('*',end='')\n",
    "            print()\n",
    "        else:\n",
    "            for j in range (i-n//2):\n",
    "                print(' ',end='')\n",
    "            for k in range ((n-i)*2-1):\n",
    "                print('*',end='')\n",
    "            print()\n",
    "n=int(input())\n",
    "pattern(n)"
   ]
  }
 ],
 "metadata": {
  "kernelspec": {
   "display_name": "Python 3",
   "language": "python",
   "name": "python3"
  },
  "language_info": {
   "codemirror_mode": {
    "name": "ipython",
    "version": 3
   },
   "file_extension": ".py",
   "mimetype": "text/x-python",
   "name": "python",
   "nbconvert_exporter": "python",
   "pygments_lexer": "ipython3",
   "version": "3.8.5"
  }
 },
 "nbformat": 4,
 "nbformat_minor": 4
}
