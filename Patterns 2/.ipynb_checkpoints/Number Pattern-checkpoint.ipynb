{
 "cells": [
  {
   "cell_type": "markdown",
   "metadata": {},
   "source": [
    "Number Pattern\n",
    "Send Feedback\n",
    "Print the following pattern for n number of rows.\n",
    "For eg. N = 5\n",
    "\n",
    "1        1\n",
    "12      21\n",
    "123    321\n",
    "1234  4321\n",
    "1234554321\n",
    "Sample Input 1 :\n",
    "4\n",
    "Sample Output 1 :\n",
    "1      1\n",
    "12    21\n",
    "123  321\n",
    "12344321"
   ]
  },
  {
   "cell_type": "code",
   "execution_count": null,
   "metadata": {},
   "outputs": [],
   "source": [
    "n = int(input())\n",
    "for i in range(1,n+1):\n",
    "    for j in range(1,i+1):\n",
    "        print(j,end='')\n",
    "    for j in range(0,2*n-2*i):\n",
    "        print(\" \",end='')\n",
    "    for j in range(i,0,-1):\n",
    "        print(j,end='')\n",
    "    print('')"
   ]
  }
 ],
 "metadata": {
  "kernelspec": {
   "display_name": "Python 3",
   "language": "python",
   "name": "python3"
  },
  "language_info": {
   "codemirror_mode": {
    "name": "ipython",
    "version": 3
   },
   "file_extension": ".py",
   "mimetype": "text/x-python",
   "name": "python",
   "nbconvert_exporter": "python",
   "pygments_lexer": "ipython3",
   "version": "3.8.5"
  }
 },
 "nbformat": 4,
 "nbformat_minor": 4
}
