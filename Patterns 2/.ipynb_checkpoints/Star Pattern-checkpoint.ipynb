{
 "cells": [
  {
   "cell_type": "markdown",
   "metadata": {},
   "source": [
    "Code : Star Pattern\n",
    "Send Feedback\n",
    "Print the following pattern\n",
    "\n",
    "Input Format :\n",
    "N (Total no. of rows)\n",
    "Output Format :\n",
    "Pattern in N lines\n",
    "Constraints :\n",
    "0 <= N <= 50\n",
    "Sample Input 1 :\n",
    "3\n",
    "Sample Output 1 :\n",
    "   *\n",
    "  *** \n",
    " *****\n",
    "Sample Input 2 :\n",
    "4\n",
    "Sample Output 2 :\n",
    "    *\n",
    "   *** \n",
    "  *****\n",
    " *******"
   ]
  },
  {
   "cell_type": "code",
   "execution_count": null,
   "metadata": {},
   "outputs": [],
   "source": [
    "n=int(input())\n",
    "i=1\n",
    "while i<=n:\n",
    "    spaces=1\n",
    "    #spaces\n",
    "    while spaces<=n-i:\n",
    "        print(' ',end='')\n",
    "        spaces=spaces+1\n",
    "    p=1\n",
    "    j=1\n",
    "    #increasing seq\n",
    "    while j<=i:\n",
    "        print('*',end='')\n",
    "        j=j+1\n",
    "        p=p+1\n",
    "    #decreasing seq\n",
    "    p=i-1\n",
    "    while p>=1:\n",
    "        print('*',end='')\n",
    "        p=p-1\n",
    "    print()\n",
    "    i=i+1"
   ]
  }
 ],
 "metadata": {
  "kernelspec": {
   "display_name": "Python 3",
   "language": "python",
   "name": "python3"
  },
  "language_info": {
   "codemirror_mode": {
    "name": "ipython",
    "version": 3
   },
   "file_extension": ".py",
   "mimetype": "text/x-python",
   "name": "python",
   "nbconvert_exporter": "python",
   "pygments_lexer": "ipython3",
   "version": "3.8.5"
  }
 },
 "nbformat": 4,
 "nbformat_minor": 4
}
