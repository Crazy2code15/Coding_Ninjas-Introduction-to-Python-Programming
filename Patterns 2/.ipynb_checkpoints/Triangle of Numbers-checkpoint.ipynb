{
 "cells": [
  {
   "cell_type": "markdown",
   "metadata": {},
   "source": [
    "Code : Triangle of Numbers\n",
    "Send Feedback\n",
    "Print the following pattern for the given number of rows.\n",
    "\n",
    "Input format :\n",
    "Integer N (Total no. of rows)\n",
    "Output format :\n",
    "Pattern in N lines\n",
    "Constraints :\n",
    "0 <= N <= 50\n",
    "Sample Input 1:\n",
    "5\n",
    "Sample Output 1:\n",
    "       1\n",
    "      232\n",
    "     34543\n",
    "    4567654\n",
    "   567898765\n",
    "Sample Input 2:\n",
    "4\n",
    "Sample Output 2:\n",
    "        1\n",
    "       232\n",
    "      34543\n",
    "     4567654"
   ]
  },
  {
   "cell_type": "code",
   "execution_count": null,
   "metadata": {},
   "outputs": [],
   "source": [
    "n = int(input())\n",
    "num = 1\n",
    "gap = n - 1\n",
    "for j in range(1, n + 1) :\n",
    "    num = j\n",
    "    for i in range(1, gap + 1) :\n",
    "        print(\" \", end=\"\")\n",
    "    gap = gap - 1\n",
    "         \n",
    "    for i in range(1, j + 1) :\n",
    "        print(num, end=\"\")\n",
    "        num = num + 1\n",
    "     \n",
    "    num = num - 2\n",
    "    for i in range(1, j) :\n",
    "        print(num, end=\"\")\n",
    "        num = num - 1\n",
    "     \n",
    "    print()"
   ]
  }
 ],
 "metadata": {
  "kernelspec": {
   "display_name": "Python 3",
   "language": "python",
   "name": "python3"
  },
  "language_info": {
   "codemirror_mode": {
    "name": "ipython",
    "version": 3
   },
   "file_extension": ".py",
   "mimetype": "text/x-python",
   "name": "python",
   "nbconvert_exporter": "python",
   "pygments_lexer": "ipython3",
   "version": "3.8.5"
  }
 },
 "nbformat": 4,
 "nbformat_minor": 4
}
