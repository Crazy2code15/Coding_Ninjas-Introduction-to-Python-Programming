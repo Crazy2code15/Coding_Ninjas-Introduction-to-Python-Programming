{
 "cells": [
  {
   "cell_type": "markdown",
   "metadata": {},
   "source": [
    "Arrow pattern\n",
    "Send Feedback\n",
    "Print the following pattern for the given number of rows.\n",
    "Assume N is always odd.\n",
    "Note : There is space after every star.\n",
    "Pattern for N = 7\n",
    "*\n",
    " * *\n",
    "   * * *\n",
    "     * * * *\n",
    "   * * *\n",
    " * *\n",
    "*\n",
    "Input format :\n",
    "Integer N (Total no. of rows)\n",
    "Output format :\n",
    "Pattern in N lines\n",
    "Sample Input :\n",
    "11\n",
    "Sample Output :\n",
    "*\n",
    " * *\n",
    "   * * *\n",
    "     * * * *\n",
    "       * * * * *\n",
    "         * * * * * *\n",
    "       * * * * *\n",
    "     * * * *\n",
    "   * * *\n",
    " * *\n",
    "*"
   ]
  },
  {
   "cell_type": "code",
   "execution_count": null,
   "metadata": {},
   "outputs": [],
   "source": [
    "def print_arrow(n):\n",
    "    i=0\n",
    "    while i<int((n/2)+1):\n",
    "        j=0\n",
    "        while j<i:\n",
    "            print(' ',end='')\n",
    "            j=j+1\n",
    "        j=0\n",
    "        while j<=i:\n",
    "            print('*',end=' ')\n",
    "            j=j+1\n",
    "        print()\n",
    "        i=i+1\n",
    "    i=((n/2)-1)\n",
    "    while i>=0:\n",
    "        j=0\n",
    "        while j<i-1:\n",
    "            print('',end=' ')\n",
    "            j=j+1\n",
    "        j=0\n",
    "        while j<=i:\n",
    "            print('*',end=' ')\n",
    "            j=j+1\n",
    "        print()\n",
    "        i=i-1\n",
    "n=int(input())\n",
    "print_arrow(n)"
   ]
  }
 ],
 "metadata": {
  "kernelspec": {
   "display_name": "Python 3",
   "language": "python",
   "name": "python3"
  },
  "language_info": {
   "codemirror_mode": {
    "name": "ipython",
    "version": 3
   },
   "file_extension": ".py",
   "mimetype": "text/x-python",
   "name": "python",
   "nbconvert_exporter": "python",
   "pygments_lexer": "ipython3",
   "version": "3.8.5"
  }
 },
 "nbformat": 4,
 "nbformat_minor": 4
}
