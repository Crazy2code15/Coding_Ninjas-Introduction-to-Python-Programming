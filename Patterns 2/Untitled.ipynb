{
 "cells": [
  {
   "cell_type": "markdown",
   "metadata": {},
   "source": [
    "Pyramid Number Pattern\n",
    "Send Feedback\n",
    "Print the following pattern for the given number of rows.\n",
    "Pattern for N = 4\n",
    "   1\n",
    "  212\n",
    " 32123\n",
    "4321234\n",
    "Input format : N (Total no. of rows)\n",
    "\n",
    "Output format : Pattern in N lines\n",
    "\n",
    "Sample Input :\n",
    "5\n",
    "Sample Output :\n",
    "    1\n",
    "   212\n",
    "  32123\n",
    " 4321234\n",
    "543212345"
   ]
  },
  {
   "cell_type": "code",
   "execution_count": null,
   "metadata": {},
   "outputs": [],
   "source": [
    "row = int(input())\n",
    "\n",
    "# Generating pattern\n",
    "for i in range(1,row+1):\n",
    "    \n",
    "    # for space\n",
    "    for j in range(1, row+1-i):\n",
    "        print(' ', end='')\n",
    "    \n",
    "    # for decreasing pattern\n",
    "    for j in range(i,0,-1):\n",
    "        print(j, end='')\n",
    "    \n",
    "    # for increasing pattern \n",
    "    for j in range(2,i+1):\n",
    "        print(j, end='')\n",
    "    \n",
    "    # Moving to next line\n",
    "    print()"
   ]
  }
 ],
 "metadata": {
  "kernelspec": {
   "display_name": "Python 3",
   "language": "python",
   "name": "python3"
  },
  "language_info": {
   "codemirror_mode": {
    "name": "ipython",
    "version": 3
   },
   "file_extension": ".py",
   "mimetype": "text/x-python",
   "name": "python",
   "nbconvert_exporter": "python",
   "pygments_lexer": "ipython3",
   "version": "3.8.5"
  }
 },
 "nbformat": 4,
 "nbformat_minor": 4
}
