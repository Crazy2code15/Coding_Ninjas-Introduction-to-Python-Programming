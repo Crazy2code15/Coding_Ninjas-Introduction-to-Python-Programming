{
 "cells": [
  {
   "cell_type": "markdown",
   "metadata": {},
   "source": [
    "Zeros and Stars Pattern\n",
    "Send Feedback\n",
    "Print the following pattern\n",
    "Pattern for N = 4\n",
    "*000*000*\n",
    "0*00*00*0\n",
    "00*0*0*00\n",
    "000***000\n",
    "Input Format :\n",
    "N (Total no. of rows)\n",
    "Output Format :\n",
    "Pattern in N lines\n",
    "Sample Input 1 :\n",
    "3\n",
    "Sample Output 1 :\n",
    "*00*00*\n",
    "0*0*0*0\n",
    "00***00\n",
    "Sample Input 2 :\n",
    "5\n",
    "Sample Output 2 :\n",
    "*0000*0000*\n",
    "0*000*000*0\n",
    "00*00*00*00\n",
    "000*0*0*000\n",
    "0000***0000"
   ]
  },
  {
   "cell_type": "code",
   "execution_count": null,
   "metadata": {},
   "outputs": [],
   "source": [
    "n=int(input()) \n",
    "i=1  \n",
    "j=1  \n",
    "while i<=n:  #this loop is used to print lines  \n",
    "    j=1  \n",
    "    while j<=n:      #this loop is used to print lines  \n",
    "        if i==j:  \n",
    "            print(\"*\", end='', flush=True)  \n",
    "        else :  \n",
    "            print(\"0\", end='', flush=True)  \n",
    "        j=j+1  \n",
    "    j=j-1;  \n",
    "    print(\"*\", end='', flush=True)  \n",
    "    while j>=1:  #this loop is used to print lines  \n",
    "        if i==j:  \n",
    "            print(\"*\", end='', flush=True)  \n",
    "        else :  \n",
    "            print(\"0\", end='', flush=True)  \n",
    "        j=j-1  \n",
    "    print(\"\");  \n",
    "    i=i+1"
   ]
  }
 ],
 "metadata": {
  "kernelspec": {
   "display_name": "Python 3",
   "language": "python",
   "name": "python3"
  },
  "language_info": {
   "codemirror_mode": {
    "name": "ipython",
    "version": 3
   },
   "file_extension": ".py",
   "mimetype": "text/x-python",
   "name": "python",
   "nbconvert_exporter": "python",
   "pygments_lexer": "ipython3",
   "version": "3.8.5"
  }
 },
 "nbformat": 4,
 "nbformat_minor": 4
}
