{
 "cells": [
  {
   "cell_type": "markdown",
   "metadata": {},
   "source": [
    "Find Duplicate\n",
    "Send Feedback\n",
    "You have been given an integer array/list(ARR) of size N which contains numbers from 0 to (N - 2). Each number is present at least once. That is, if N = 5, the array/list constitutes values ranging from 0 to 3 and among these, there is a single integer value that is present twice. You need to find and return that duplicate number present in the array.\n",
    "Note :\n",
    "Duplicate number is always present in the given array/list.\n",
    "Input format :\n",
    "The first line contains an Integer 't' which denotes the number of test cases or queries to be run. Then the test cases follow.\n",
    "\n",
    "First line of each test case or query contains an integer 'N' representing the size of the array/list.\n",
    "\n",
    "Second line contains 'N' single space separated integers representing the elements in the array/list.\n",
    "Output Format :\n",
    "For each test case, print the duplicate element in the array/list.\n",
    "\n",
    "Output for every test case will be printed in a separate line.\n",
    "Constraints :\n",
    "1 <= t <= 10^2\n",
    "0 <= N <= 10^3\n",
    "Time Limit: 1 sec\n",
    "Sample Input 1:\n",
    "1\n",
    "9\n",
    "0 7 2 5 4 7 1 3 6\n",
    "Sample Output 1:\n",
    "7\n",
    "Sample Input 2:\n",
    "2\n",
    "5\n",
    "0 2 1 3 1\n",
    "7\n",
    "0 3 1 5 4 3 2\n",
    "Sample Output 2:\n",
    "1\n",
    "3"
   ]
  },
  {
   "cell_type": "code",
   "execution_count": null,
   "metadata": {},
   "outputs": [],
   "source": [
    "import sys\n",
    "\n",
    "def duplicateNumber(arr, n) :\n",
    "    #Your code goes here\n",
    "    for i in range(n - 1) :\n",
    "        for j in range((i + 1), n) :\n",
    "            if arr[i] == arr[j] :\n",
    "                return arr[i] \n",
    "#Taking Input Using Fast I/O\n",
    "def takeInput() :\n",
    "    n = int(sys.stdin.readline().strip())\n",
    "\n",
    "    if n == 0 :\n",
    "        return list(), 0\n",
    "\n",
    "    arr = list(map(int, sys.stdin.readline().strip().split()))\n",
    "    return arr, n\n",
    "\n",
    "\n",
    "#main\n",
    "t = int(sys.stdin.readline().strip())\n",
    "\n",
    "while t > 0 :\n",
    "    \n",
    "    arr, n = takeInput()\n",
    "    print(duplicateNumber(arr, n))\n",
    "\n",
    "    t -= 1\n",
    "    "
   ]
  }
 ],
 "metadata": {
  "kernelspec": {
   "display_name": "Python 3",
   "language": "python",
   "name": "python3"
  },
  "language_info": {
   "codemirror_mode": {
    "name": "ipython",
    "version": 3
   },
   "file_extension": ".py",
   "mimetype": "text/x-python",
   "name": "python",
   "nbconvert_exporter": "python",
   "pygments_lexer": "ipython3",
   "version": "3.8.5"
  }
 },
 "nbformat": 4,
 "nbformat_minor": 4
}
