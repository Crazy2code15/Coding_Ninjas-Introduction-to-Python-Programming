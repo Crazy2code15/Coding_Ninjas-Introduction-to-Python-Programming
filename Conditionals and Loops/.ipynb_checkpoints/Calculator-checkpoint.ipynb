{
 "cells": [
  {
   "cell_type": "markdown",
   "metadata": {},
   "source": [
    "Calculator\n",
    "Send Feedback\n",
    "Write a program that performs the tasks of a simple calculator. The program should first take an integer as input and then based on that integer perform the task as given below.\n",
    "1. If the input is 1, then 2 integers are taken from the user and their sum is printed.\n",
    "2. If the input is 2, then 2 integers are taken from the user and their difference(1st number - 2nd number) is printed.\n",
    "3. If the input is 3, then 2 integers are taken from the user and their product is printed.\n",
    "4. If the input is 4, then 2 integers are taken from the user and the quotient obtained (on dividing 1st number by 2nd number) is printed.\n",
    "5. If the input is 5, then 2 integers are taken from the user and their remainder(1st number mod 2nd number) is printed.\n",
    "6. If the input is 6, then the program exits.\n",
    "7. For any other input, then print \"Invalid Operation\".\n",
    "Note: Each answer in next line.\n",
    "Input format:\n",
    "Take integers as input, in accordance to the description of the question. \n",
    "Constraints:\n",
    "Time Limit: 1 second\n",
    "Output format:\n",
    "The output lines must be as prescribed in the description of the question.\n",
    "Sample Input:\n",
    "3\n",
    "1\n",
    "2\n",
    "4\n",
    "4\n",
    "2\n",
    "1\n",
    "3\n",
    "2\n",
    "7\n",
    "6\n",
    "Sample Output:\n",
    "2\n",
    "2\n",
    "5\n",
    "Invalid Operation\n",
    "Explanation of the sample input\n",
    "The first number given is 3, so that means two more numbers will be given and we'll have to multiply them and show the result. The two numbers are 1 and 2. Their product is 2, so 2 is displayed first in the output. Similarly, all the numbers are processed in groups of three. The first number tells the operation and the next two numbers tell on which numbers the operation is done. This applies to numbers from 1 to 5. If the input is 6 (like it is at the end), two more numbers will NOT be provided, you simply have to exit the program. Also, if the input is any number except 1 to 6 (like 7 which is at the second last), then you simply have to print \"Invalid Operation\""
   ]
  },
  {
   "cell_type": "code",
   "execution_count": null,
   "metadata": {},
   "outputs": [],
   "source": [
    "while True:\n",
    "    x=int(input())\n",
    "    if x==1:\n",
    "        a=int(input())\n",
    "        b=int(input())\n",
    "        print(a+b)\n",
    "    elif x==2:\n",
    "        a=int(input())\n",
    "        b=int(input())\n",
    "        print(a-b)\n",
    "    elif x==3:\n",
    "        a=int(input())\n",
    "        b=int(input())\n",
    "        print(a*b)\n",
    "    elif x==4:\n",
    "        a=int(input())\n",
    "        b=int(input())\n",
    "        c=a/b\n",
    "        print(int(c))\n",
    "    elif x==5:\n",
    "        a=int(input())\n",
    "        b=int(input())\n",
    "        c=a%b\n",
    "        print(int(c))\n",
    "    elif x==6:\n",
    "        break\n",
    "    else:\n",
    "        print(\"Invalid Operation\")"
   ]
  }
 ],
 "metadata": {
  "kernelspec": {
   "display_name": "Python 3",
   "language": "python",
   "name": "python3"
  },
  "language_info": {
   "codemirror_mode": {
    "name": "ipython",
    "version": 3
   },
   "file_extension": ".py",
   "mimetype": "text/x-python",
   "name": "python",
   "nbconvert_exporter": "python",
   "pygments_lexer": "ipython3",
   "version": "3.8.5"
  }
 },
 "nbformat": 4,
 "nbformat_minor": 4
}
