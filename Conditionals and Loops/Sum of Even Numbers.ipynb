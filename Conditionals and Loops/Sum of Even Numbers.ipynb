{
 "cells": [
  {
   "cell_type": "markdown",
   "metadata": {},
   "source": [
    "Sum of Even Numbers\n",
    "Send Feedback\n",
    "Given a number N, print sum of all even numbers from 1 to N.\n",
    "Input Format :\n",
    "Integer N\n",
    "Output Format :\n",
    "Required Sum \n",
    "Sample Input 1 :\n",
    " 6\n",
    "Sample Output 1 :\n",
    "12"
   ]
  },
  {
   "cell_type": "code",
   "execution_count": null,
   "metadata": {},
   "outputs": [],
   "source": [
    "n=int(input())\n",
    "count=1\n",
    "sum=0\n",
    "while count<=n:\n",
    "    if count%2==0:\n",
    "        sum=sum+count\n",
    "        count=count+1\n",
    "    else:\n",
    "        count=count+1\n",
    "print(sum)"
   ]
  }
 ],
 "metadata": {
  "kernelspec": {
   "display_name": "Python 3",
   "language": "python",
   "name": "python3"
  },
  "language_info": {
   "codemirror_mode": {
    "name": "ipython",
    "version": 3
   },
   "file_extension": ".py",
   "mimetype": "text/x-python",
   "name": "python",
   "nbconvert_exporter": "python",
   "pygments_lexer": "ipython3",
   "version": "3.8.5"
  }
 },
 "nbformat": 4,
 "nbformat_minor": 4
}
