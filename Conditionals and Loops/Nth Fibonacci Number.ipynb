{
 "cells": [
  {
   "cell_type": "markdown",
   "metadata": {},
   "source": [
    "Nth Fibonacci Number\n",
    "Send Feedback\n",
    "Nth term of Fibonacci series F(n), where F(n) is a function, is calculated using the following formula -\n",
    "    F(n) = F(n-1) + F(n-2), \n",
    "    Where, F(1) = F(2) = 1\n",
    "Provided N you have to find out the Nth Fibonacci Number.\n",
    "Input Format :\n",
    "The first line of each test case contains a real number ‘N’.\n",
    "Output Format :\n",
    "For each test case, return its equivalent Fibonacci number.\n",
    "Constraints:\n",
    "1 <= N <= 10000     \n",
    "Where ‘N’ represents the number for which we have to find its equivalent Fibonacci number.\n",
    "\n",
    "Time Limit: 1 second\n",
    "Sample Input 1:\n",
    "6\n",
    "Sample Output 1:\n",
    "8\n",
    "Explanation of Sample Input 1:\n",
    "Now the number is ‘6’ so we have to find the “6th” Fibonacci number\n",
    "So by using the property of the Fibonacci series i.e \n",
    "\n",
    "[ 1, 1, 2, 3, 5, 8]\n",
    "So the “6th” element is “8” hence we get the output."
   ]
  },
  {
   "cell_type": "code",
   "execution_count": null,
   "metadata": {},
   "outputs": [],
   "source": [
    "n=int(input())\n",
    "def Fibonacci(n):\n",
    "    if n==1:\n",
    "        return 1\n",
    "    elif n==2:\n",
    "        return 1\n",
    "    elif n==3:\n",
    "        return 2\n",
    "    elif n>=4:\n",
    "        return Fibonacci(n-1)+Fibonacci(n-2)\n",
    "# main\n",
    "print(Fibonacci(n))"
   ]
  }
 ],
 "metadata": {
  "kernelspec": {
   "display_name": "Python 3",
   "language": "python",
   "name": "python3"
  },
  "language_info": {
   "codemirror_mode": {
    "name": "ipython",
    "version": 3
   },
   "file_extension": ".py",
   "mimetype": "text/x-python",
   "name": "python",
   "nbconvert_exporter": "python",
   "pygments_lexer": "ipython3",
   "version": "3.8.5"
  }
 },
 "nbformat": 4,
 "nbformat_minor": 4
}
